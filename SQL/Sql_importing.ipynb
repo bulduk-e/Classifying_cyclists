{
 "cells": [
  {
   "cell_type": "code",
   "execution_count": 1,
   "id": "a8eb0728",
   "metadata": {},
   "outputs": [],
   "source": [
    "import pandas as pd\n",
    "from sqlalchemy import create_engine \n",
    "import pymysql.cursors\n",
    "import os\n",
    "import getpass"
   ]
  },
  {
   "cell_type": "code",
   "execution_count": null,
   "id": "e3822993",
   "metadata": {},
   "outputs": [],
   "source": []
  },
  {
   "cell_type": "code",
   "execution_count": 6,
   "id": "f88d8f00",
   "metadata": {},
   "outputs": [],
   "source": [
    "def convert_pd_df_tosql(fname,table_name,schema=\"cycling\"):\n",
    "    connection_string = 'mysql+pymysql://root:' + \"lorem ipsum\" + '@127.0.0.1:3306/'\n",
    "    engine = create_engine(connection_string)\n",
    "    engine.execute('CREATE SCHEMA IF NOT EXISTS cycling')\n",
    "    df = pd.read_csv(fname)\n",
    "    df.to_sql(table_name,engine,schema,index=False)\n",
    "    return \"Created table\""
   ]
  },
  {
   "cell_type": "code",
   "execution_count": 9,
   "id": "6c575327",
   "metadata": {},
   "outputs": [
    {
     "data": {
      "text/plain": [
       "'Created table'"
      ]
     },
     "execution_count": 9,
     "metadata": {},
     "output_type": "execute_result"
    }
   ],
   "source": [
    "convert_pd_df_tosql('data_cleaning/final_cleaned_tables/race_info_cleaned.csv', \"race_info\")\n",
    "convert_pd_df_tosql('data_cleaning/final_cleaned_tables/race_result_cleaned.csv', \"race_result\")\n",
    "convert_pd_df_tosql('data_cleaning/final_cleaned_tables/rider_info_cleaned.csv', \"rider_info\")\n",
    "convert_pd_df_tosql('data_cleaning/final_cleaned_tables/team_history_performance_cleaned.csv', \"team_historic\")\n",
    "convert_pd_df_tosql('data_cleaning/final_cleaned_tables/team_info_and_material_cleaned.csv', \"team_info\")"
   ]
  },
  {
   "cell_type": "code",
   "execution_count": 10,
   "id": "00260fa9",
   "metadata": {},
   "outputs": [
    {
     "data": {
      "text/plain": [
       "'Created table'"
      ]
     },
     "execution_count": 10,
     "metadata": {},
     "output_type": "execute_result"
    }
   ],
   "source": [
    "convert_pd_df_tosql('data_cleaning/final_cleaned_tables/race_result_cleaned.csv', \"race_result\")"
   ]
  },
  {
   "cell_type": "code",
   "execution_count": null,
   "id": "4e6364d7",
   "metadata": {},
   "outputs": [],
   "source": []
  }
 ],
 "metadata": {
  "kernelspec": {
   "display_name": "Python 3 (ipykernel)",
   "language": "python",
   "name": "python3"
  },
  "language_info": {
   "codemirror_mode": {
    "name": "ipython",
    "version": 3
   },
   "file_extension": ".py",
   "mimetype": "text/x-python",
   "name": "python",
   "nbconvert_exporter": "python",
   "pygments_lexer": "ipython3",
   "version": "3.9.13"
  }
 },
 "nbformat": 4,
 "nbformat_minor": 5
}
